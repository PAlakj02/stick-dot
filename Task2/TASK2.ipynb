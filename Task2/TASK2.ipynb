{
  "nbformat": 4,
  "nbformat_minor": 0,
  "metadata": {
    "colab": {
      "provenance": []
    },
    "kernelspec": {
      "name": "python3",
      "display_name": "Python 3"
    },
    "language_info": {
      "name": "python"
    }
  },
  "cells": [
    {
      "cell_type": "markdown",
      "source": [
        " **TASK 2**"
      ],
      "metadata": {
        "id": "j8Tbx4dv1G7F"
      }
    },
    {
      "cell_type": "code",
      "source": [
        "# ─── Cell 1: Install dependencies ───────────────────────────\n",
        "!apt-get update -qq && apt-get install -qq -y ffmpeg\n",
        "!pip install -q opencv-python torch torchvision\n"
      ],
      "metadata": {
        "colab": {
          "base_uri": "https://localhost:8080/"
        },
        "id": "H5UvZ5ZCvPPR",
        "outputId": "5e6597de-8179-434d-d6e8-64cd5b041350"
      },
      "execution_count": 5,
      "outputs": [
        {
          "output_type": "stream",
          "name": "stdout",
          "text": [
            "W: Skipping acquire of configured file 'main/source/Sources' as repository 'https://r2u.stat.illinois.edu/ubuntu jammy InRelease' does not seem to provide it (sources.list entry misspelt?)\n"
          ]
        }
      ]
    },
    {
      "cell_type": "code",
      "source": [
        "# Cell 2 ▶️ Trim, Subtitle & Extract Frames\n",
        "\n",
        "import os, subprocess, glob\n",
        "\n",
        "# ─ Config ─────────────────────────────────────────────────────────────\n",
        "VIDEO_PATH   = \"/content/sad story of cats😥catlover cutecats cats animal ai shorts.mp4\"      # ← your uploaded file\n",
        "TRIM_START   = 5                         # in seconds\n",
        "TRIM_END     = 15                        # in seconds\n",
        "TRIMMED      = \"/content/trimmed.mp4\"\n",
        "SUBTITLED    = \"/content/subtitled.mp4\"\n",
        "FRAMES_DIR   = \"/content/frames01\"\n",
        "os.makedirs(FRAMES_DIR, exist_ok=True)\n",
        "\n",
        "# 1) Precise trim (seek BEFORE input, re-encode to avoid keyframe gaps)\n",
        "subprocess.run([\n",
        "    \"ffmpeg\", \"-y\",\n",
        "    \"-ss\", str(TRIM_START),\n",
        "    \"-to\", str(TRIM_END),\n",
        "    \"-i\", VIDEO_PATH,\n",
        "    \"-c:v\", \"libx264\",    # re-encode video\n",
        "    \"-c:a\", \"copy\",       # copy audio\n",
        "    TRIMMED\n",
        "], check=True)\n",
        "\n",
        "# 2) Single subtitle line (using re-encoded trimmed clip)\n",
        "subtitle_txt = \"Trimmed from 5s to 15s\"\n",
        "draw = (\n",
        "    \"drawtext=fontfile=/usr/share/fonts/truetype/dejavu/DejaVuSans-Bold.ttf:\"\n",
        "    f\"text='{subtitle_txt}':fontsize=24:fontcolor=white@1:box=1:boxcolor=black@0.6:\"\n",
        "    \"x=(w-text_w)/2:y=h-50\"\n",
        ")\n",
        "subprocess.run([\n",
        "    \"ffmpeg\", \"-y\",\n",
        "    \"-i\", TRIMMED,\n",
        "    \"-vf\", draw,\n",
        "    \"-c:a\", \"copy\",\n",
        "    SUBTITLED\n",
        "], check=True)\n",
        "\n",
        "# 3) Extract 1 frame per second from subtitled video\n",
        "subprocess.run([\n",
        "    \"ffmpeg\", \"-y\",\n",
        "    \"-i\", SUBTITLED,\n",
        "    \"-vf\", \"fps=1\",\n",
        "    os.path.join(FRAMES_DIR, \"frame_%03d.png\")\n",
        "], check=True)\n",
        "\n",
        "print(\"✅ Trimmed, subtitled and extracted frames to\", FRAMES_DIR)\n"
      ],
      "metadata": {
        "colab": {
          "base_uri": "https://localhost:8080/"
        },
        "id": "03JCgcvNvPL0",
        "outputId": "61c2c88e-b7f2-497d-8e5a-d648840e0f90"
      },
      "execution_count": 11,
      "outputs": [
        {
          "output_type": "stream",
          "name": "stdout",
          "text": [
            "✅ Trimmed, subtitled and extracted frames to /content/frames01\n"
          ]
        }
      ]
    },
    {
      "cell_type": "code",
      "source": [
        "# Cell 3 ▶️ Depth Estimation with MiDaS\n",
        "\n",
        "import os, cv2, torch, numpy as np\n",
        "from torchvision import transforms\n",
        "from google.colab import files\n",
        "\n",
        "# 1) Load MiDaS model + transforms\n",
        "model = torch.hub.load(\"intel-isl/MiDaS\", \"MiDaS_small\").eval()\n",
        "midas_transforms = torch.hub.load(\"intel-isl/MiDaS\", \"transforms\")\n",
        "small_transform  = midas_transforms.small_transform\n",
        "\n",
        "# 2) Prepare output folder\n",
        "DEPTH_DIR = \"/content/depth_maps\"\n",
        "os.makedirs(DEPTH_DIR, exist_ok=True)\n",
        "\n",
        "# 3) Depth estimator that handles batched/unbatched output\n",
        "def estimate_depth(frame_bgr):\n",
        "    rgb = cv2.cvtColor(frame_bgr, cv2.COLOR_BGR2RGB)\n",
        "    inp = small_transform(rgb)\n",
        "    # if transform already batched, skip extra unsqueeze\n",
        "    if inp.ndim == 4:\n",
        "        batch = inp\n",
        "    else:\n",
        "        batch = inp.unsqueeze(0)\n",
        "    with torch.no_grad():\n",
        "        pred = model(batch).squeeze().cpu().numpy()\n",
        "    norm = (pred - pred.min()) / (pred.max() - pred.min())\n",
        "    return (norm * 255).astype(np.uint8)\n",
        "\n",
        "# 4) Loop through each extracted frame\n",
        "frames = sorted(os.listdir(\"/content/frames01\"))\n",
        "for fname in frames:\n",
        "    path = f\"/content/frames01/{fname}\"\n",
        "    frame = cv2.imread(path)\n",
        "    depth = estimate_depth(frame)\n",
        "    out_name = fname.replace(\"frame\", \"depth\")\n",
        "    cv2.imwrite(f\"{DEPTH_DIR}/{out_name}\", depth)\n",
        "    print(\"✔ Processed\", fname)\n",
        "\n",
        "# 5) Zip & download depth maps\n",
        "!zip -q -r /content/depth_results.zip {DEPTH_DIR}\n",
        "files.download(\"/content/depth_results.zip\")\n"
      ],
      "metadata": {
        "colab": {
          "base_uri": "https://localhost:8080/",
          "height": 260
        },
        "id": "NFE3qlOLx2uS",
        "outputId": "82ea03f0-1183-4567-b2cf-0cfd55097055"
      },
      "execution_count": 15,
      "outputs": [
        {
          "output_type": "stream",
          "name": "stderr",
          "text": [
            "Using cache found in /root/.cache/torch/hub/intel-isl_MiDaS_master\n",
            "Using cache found in /root/.cache/torch/hub/rwightman_gen-efficientnet-pytorch_master\n"
          ]
        },
        {
          "output_type": "stream",
          "name": "stdout",
          "text": [
            "Loading weights:  None\n"
          ]
        },
        {
          "output_type": "stream",
          "name": "stderr",
          "text": [
            "Using cache found in /root/.cache/torch/hub/intel-isl_MiDaS_master\n"
          ]
        },
        {
          "output_type": "stream",
          "name": "stdout",
          "text": [
            "✔ Processed frame_001.png\n",
            "✔ Processed frame_002.png\n",
            "✔ Processed frame_003.png\n",
            "✔ Processed frame_004.png\n",
            "✔ Processed frame_005.png\n",
            "✔ Processed frame_006.png\n",
            "✔ Processed frame_007.png\n",
            "✔ Processed frame_008.png\n",
            "✔ Processed frame_009.png\n",
            "✔ Processed frame_010.png\n"
          ]
        },
        {
          "output_type": "display_data",
          "data": {
            "text/plain": [
              "<IPython.core.display.Javascript object>"
            ],
            "application/javascript": [
              "\n",
              "    async function download(id, filename, size) {\n",
              "      if (!google.colab.kernel.accessAllowed) {\n",
              "        return;\n",
              "      }\n",
              "      const div = document.createElement('div');\n",
              "      const label = document.createElement('label');\n",
              "      label.textContent = `Downloading \"${filename}\": `;\n",
              "      div.appendChild(label);\n",
              "      const progress = document.createElement('progress');\n",
              "      progress.max = size;\n",
              "      div.appendChild(progress);\n",
              "      document.body.appendChild(div);\n",
              "\n",
              "      const buffers = [];\n",
              "      let downloaded = 0;\n",
              "\n",
              "      const channel = await google.colab.kernel.comms.open(id);\n",
              "      // Send a message to notify the kernel that we're ready.\n",
              "      channel.send({})\n",
              "\n",
              "      for await (const message of channel.messages) {\n",
              "        // Send a message to notify the kernel that we're ready.\n",
              "        channel.send({})\n",
              "        if (message.buffers) {\n",
              "          for (const buffer of message.buffers) {\n",
              "            buffers.push(buffer);\n",
              "            downloaded += buffer.byteLength;\n",
              "            progress.value = downloaded;\n",
              "          }\n",
              "        }\n",
              "      }\n",
              "      const blob = new Blob(buffers, {type: 'application/binary'});\n",
              "      const a = document.createElement('a');\n",
              "      a.href = window.URL.createObjectURL(blob);\n",
              "      a.download = filename;\n",
              "      div.appendChild(a);\n",
              "      a.click();\n",
              "      div.remove();\n",
              "    }\n",
              "  "
            ]
          },
          "metadata": {}
        },
        {
          "output_type": "display_data",
          "data": {
            "text/plain": [
              "<IPython.core.display.Javascript object>"
            ],
            "application/javascript": [
              "download(\"download_34b23163-4245-4bfb-82c8-926d415b6c88\", \"depth_results.zip\", 84459)"
            ]
          },
          "metadata": {}
        }
      ]
    }
  ]
}