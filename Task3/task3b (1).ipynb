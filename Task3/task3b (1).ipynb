{
  "cells": [
    {
      "cell_type": "code",
      "execution_count": null,
      "metadata": {
        "colab": {
          "base_uri": "https://localhost:8080/"
        },
        "collapsed": true,
        "id": "8bMUAqsZSSIW",
        "outputId": "0e9cb896-9328-4bc8-f911-2bc58001425e"
      },
      "outputs": [],
      "source": [
        "!pip install imutils opencv-python tensorflow scikit-learn kaggle\n"
      ]
    },
    {
      "cell_type": "code",
      "execution_count": null,
      "metadata": {
        "colab": {
          "base_uri": "https://localhost:8080/",
          "height": 1000
        },
        "collapsed": true,
        "id": "VY3KPqbBSZD8",
        "outputId": "87b97678-ff79-487c-e166-ab7f026e7d19"
      },
      "outputs": [],
      "source": [
        "from google.colab import files\n",
        "import os\n",
        "\n",
        "# Upload your Kaggle API key file\n",
        "files.upload()  # Upload the 'kaggle.json' file here\n",
        "\n",
        "# Set Kaggle API credentials\n",
        "os.environ['KAGGLE_CONFIG_DIR'] = \"/content\"\n",
        "\n",
        "# Download the dataset\n",
        "!kaggle datasets download -d ritiksharma07/80-indian-cuisines-for-classification-projects\n",
        "\n",
        "# Unzip the downloaded dataset\n",
        "!unzip /content/80-indian-cuisines-for-classification-projects.zip -d /content/indian_cuisine01\n",
        "\n"
      ]
    },
    {
      "cell_type": "code",
      "execution_count": 2,
      "metadata": {
        "id": "B_5UtXAYTstF"
      },
      "outputs": [],
      "source": [
        "# Import the necessary module\n",
        "from imutils import paths\n",
        "\n",
        "# Update the dataset path to the location where the images are stored\n",
        "imagePaths = list(paths.list_images(\"/content/indian_cuisine\"))"
      ]
    },
    {
      "cell_type": "code",
      "execution_count": null,
      "metadata": {
        "collapsed": true,
        "id": "OUlco0UqTspl"
      },
      "outputs": [],
      "source": [
        "import tensorflow as tf\n",
        "\n",
        "# Get the GPU device name.\n",
        "device_name = tf.test.gpu_device_name()\n",
        "\n",
        "# The device name should look like the following:\n",
        "# /device:GPU:0\n",
        "if device_name != '/device:GPU:0':\n",
        "  raise SystemError('GPU device not found')\n",
        "print('Found GPU at: {}'.format(device_name))"
      ]
    },
    {
      "cell_type": "code",
      "execution_count": 10,
      "metadata": {
        "colab": {
          "base_uri": "https://localhost:8080/",
          "height": 1000
        },
        "id": "sHRrDhXVfOjO",
        "outputId": "327b471a-79ed-4318-e512-2ba9bd084ac5"
      },
      "outputs": [
        {
          "name": "stderr",
          "output_type": "stream",
          "text": [
            "/usr/local/lib/python3.11/dist-packages/torchvision/models/_utils.py:208: UserWarning: The parameter 'pretrained' is deprecated since 0.13 and may be removed in the future, please use 'weights' instead.\n",
            "  warnings.warn(\n",
            "/usr/local/lib/python3.11/dist-packages/torchvision/models/_utils.py:223: UserWarning: Arguments other than a weight enum or `None` for 'weights' are deprecated since 0.13 and may be removed in the future. The current behavior is equivalent to passing `weights=GoogLeNet_Weights.IMAGENET1K_V1`. You can also use `weights=GoogLeNet_Weights.DEFAULT` to get the most up-to-date weights.\n",
            "  warnings.warn(msg)\n"
          ]
        },
        {
          "name": "stdout",
          "output_type": "stream",
          "text": [
            "✅ Selected classes and copied 10–20 images each.\n",
            "✅ Total images loaded: 276\n",
            "Class-to-Index mapping: {'butter_chicken': 0, 'chapati': 1, 'daal_baati_churma': 2, 'kachori': 3, 'palak_paneer': 4, 'ras_malai': 5, 'shrikhand': 6}\n"
          ]
        },
        {
          "name": "stderr",
          "output_type": "stream",
          "text": [
            "Epoch 1/5: 100%|██████████| 18/18 [00:03<00:00,  4.77it/s]\n"
          ]
        },
        {
          "name": "stdout",
          "output_type": "stream",
          "text": [
            "📘 Epoch [1/5] Loss: 0.5405\n"
          ]
        },
        {
          "name": "stderr",
          "output_type": "stream",
          "text": [
            "Epoch 2/5: 100%|██████████| 18/18 [00:03<00:00,  4.91it/s]\n"
          ]
        },
        {
          "name": "stdout",
          "output_type": "stream",
          "text": [
            "📘 Epoch [2/5] Loss: 0.2205\n"
          ]
        },
        {
          "name": "stderr",
          "output_type": "stream",
          "text": [
            "Epoch 3/5: 100%|██████████| 18/18 [00:03<00:00,  5.74it/s]\n"
          ]
        },
        {
          "name": "stdout",
          "output_type": "stream",
          "text": [
            "📘 Epoch [3/5] Loss: 0.1175\n"
          ]
        },
        {
          "name": "stderr",
          "output_type": "stream",
          "text": [
            "Epoch 4/5: 100%|██████████| 18/18 [00:03<00:00,  5.62it/s]\n"
          ]
        },
        {
          "name": "stdout",
          "output_type": "stream",
          "text": [
            "📘 Epoch [4/5] Loss: 0.0718\n"
          ]
        },
        {
          "name": "stderr",
          "output_type": "stream",
          "text": [
            "Epoch 5/5: 100%|██████████| 18/18 [00:03<00:00,  4.56it/s]\n"
          ]
        },
        {
          "name": "stdout",
          "output_type": "stream",
          "text": [
            "📘 Epoch [5/5] Loss: 0.0504\n",
            "🎉 Model saved as 'fine_tuned_indian_food_model.pth'\n"
          ]
        },
        {
          "name": "stderr",
          "output_type": "stream",
          "text": [
            "Epoch 1/5: 100%|██████████| 18/18 [00:03<00:00,  5.59it/s]\n"
          ]
        },
        {
          "name": "stdout",
          "output_type": "stream",
          "text": [
            "📘 Epoch [1/5] Loss: 0.0385\n"
          ]
        },
        {
          "name": "stderr",
          "output_type": "stream",
          "text": [
            "Epoch 2/5: 100%|██████████| 18/18 [00:03<00:00,  5.68it/s]\n"
          ]
        },
        {
          "name": "stdout",
          "output_type": "stream",
          "text": [
            "📘 Epoch [2/5] Loss: 0.0325\n"
          ]
        },
        {
          "name": "stderr",
          "output_type": "stream",
          "text": [
            "Epoch 3/5: 100%|██████████| 18/18 [00:03<00:00,  5.71it/s]\n"
          ]
        },
        {
          "name": "stdout",
          "output_type": "stream",
          "text": [
            "📘 Epoch [3/5] Loss: 0.0270\n"
          ]
        },
        {
          "name": "stderr",
          "output_type": "stream",
          "text": [
            "Epoch 4/5: 100%|██████████| 18/18 [00:03<00:00,  4.68it/s]\n"
          ]
        },
        {
          "name": "stdout",
          "output_type": "stream",
          "text": [
            "📘 Epoch [4/5] Loss: 0.0239\n"
          ]
        },
        {
          "name": "stderr",
          "output_type": "stream",
          "text": [
            "Epoch 5/5: 100%|██████████| 18/18 [00:03<00:00,  5.72it/s]\n"
          ]
        },
        {
          "name": "stdout",
          "output_type": "stream",
          "text": [
            "📘 Epoch [5/5] Loss: 0.0216\n",
            "🎉 Model saved as 'fine_tuned_indian_food_model.pth'\n"
          ]
        },
        {
          "data": {
            "image/png": "[encoded data removed]",
            "text/plain": [
              "<Figure size 800x500 with 1 Axes>"
            ]
          },
          "metadata": {},
          "output_type": "display_data"
        }
      ],
      "source": [
        "import os\n",
        "import shutil\n",
        "import torch\n",
        "import torch.nn as nn\n",
        "from torch.utils.data import DataLoader, Subset\n",
        "from torchvision import datasets, transforms, models\n",
        "from torch.optim import Adam\n",
        "from tqdm import tqdm\n",
        "import random\n",
        "\n",
        "#  Define the 7 Indian dish folders to use\n",
        "selected_classes = [\n",
        "    'butter_chicken',\n",
        "    'daal_baati_churma',\n",
        "    'chapati',\n",
        "    'ras_malai',\n",
        "    'shrikhand',\n",
        "    'kachori',\n",
        "    'palak_paneer'\n",
        "]\n",
        "\n",
        "#  Path to full dataset with all 80 classes\n",
        "original_data_path = \"/content/indian_cuisine01/Indian-Food-Dataset/Indian Food Images/Indian Food Images\"\n",
        "\n",
        "#  Create a temp dataset folder for fine-tuning (only 7 classes, 10–20 images each)\n",
        "filtered_dataset_path = \"/content/indian_cuisine\"\n",
        "os.makedirs(filtered_dataset_path, exist_ok=True)\n",
        "\n",
        "# Copy selected classes and only 10–20 images per class\n",
        "for class_name in selected_classes:\n",
        "    src_class_dir = os.path.join(original_data_path, class_name)\n",
        "    dst_class_dir = os.path.join(filtered_dataset_path, class_name)\n",
        "    os.makedirs(dst_class_dir, exist_ok=True)\n",
        "\n",
        "    images = os.listdir(src_class_dir)\n",
        "    selected_images = random.sample(images, min(len(images), 20))  # select 20 or fewer\n",
        "    for img in selected_images:\n",
        "        shutil.copy(os.path.join(src_class_dir, img), os.path.join(dst_class_dir, img))\n",
        "\n",
        "print(\" Selected classes and copied 10–20 images each.\")\n",
        "\n",
        "#  Transformations\n",
        "transform = transforms.Compose([\n",
        "    transforms.Resize((224, 224)),\n",
        "    transforms.ToTensor(),\n",
        "    transforms.Normalize([0.485, 0.456, 0.406],\n",
        "                         [0.229, 0.224, 0.225])\n",
        "])\n",
        "\n",
        "#  Load filtered dataset\n",
        "dataset = datasets.ImageFolder(root=filtered_dataset_path, transform=transform)\n",
        "dataloader = DataLoader(dataset, batch_size=16, shuffle=True)\n",
        "\n",
        "print(f\"Total images loaded: {len(dataset)}\")\n",
        "print(f\"Class-to-Index mapping: {dataset.class_to_idx}\")\n",
        "\n",
        "#  Load pre-trained GoogLeNet\n",
        "device = torch.device('cuda' if torch.cuda.is_available() else 'cpu')\n",
        "model = models.googlenet(pretrained=True)\n",
        "\n",
        "# Binary output: \"Indian dish\" = 1 (we are training only Indian food, so all = 1)\n",
        "model.fc = nn.Linear(model.fc.in_features, 1)\n",
        "model = model.to(device)\n",
        "\n",
        "#  Training setup\n",
        "criterion = nn.BCEWithLogitsLoss()\n",
        "optimizer = Adam(model.parameters(), lr=1e-4)\n",
        "\n",
        "#  Wrap dataset so all labels = 1\n",
        "class PositiveIndianDataset(torch.utils.data.Dataset):\n",
        "    def __init__(self, base_dataset):\n",
        "        self.base = base_dataset\n",
        "    def __len__(self):\n",
        "        return len(self.base)\n",
        "    def __getitem__(self, idx):\n",
        "        x, _ = self.base[idx]\n",
        "        return x, torch.tensor(1.0)  # All labels are Indian\n",
        "\n",
        "wrapped_dataset = PositiveIndianDataset(dataset)\n",
        "wrapped_loader = DataLoader(wrapped_dataset, batch_size=16, shuffle=True)\n",
        "\n",
        "#  Fine-tuning loop\n",
        "epochs = 5\n",
        "model.train()\n",
        "\n",
        "for epoch in range(epochs):\n",
        "    total_loss = 0\n",
        "    for images, labels in tqdm(wrapped_loader, desc=f\"Epoch {epoch+1}/{epochs}\"):\n",
        "        images, labels = images.to(device), labels.unsqueeze(1).to(device)\n",
        "\n",
        "        optimizer.zero_grad()\n",
        "        outputs = model(images)\n",
        "        loss = criterion(outputs, labels)\n",
        "        loss.backward()\n",
        "        optimizer.step()\n",
        "\n",
        "        total_loss += loss.item()\n",
        "\n",
        "    print(f\"📘 Epoch [{epoch+1}/{epochs}] Loss: {total_loss / len(wrapped_loader):.4f}\")\n",
        "\n",
        "#  Save model\n",
        "torch.save(model.state_dict(), \"/content/fine_tuned_indian_food_model.pth\")\n",
        "print(\"🎉 Model saved as 'fine_tuned_indian_food_model.pth'\")\n",
        "import matplotlib.pyplot as plt\n",
        "\n",
        "#  Track and plot training loss per epoch\n",
        "train_losses = []\n",
        "\n",
        "# Modified training loop to track loss\n",
        "model.train()\n",
        "for epoch in range(epochs):\n",
        "    total_loss = 0\n",
        "    for images, labels in tqdm(wrapped_loader, desc=f\"Epoch {epoch+1}/{epochs}\"):\n",
        "        images, labels = images.to(device), labels.unsqueeze(1).to(device)\n",
        "\n",
        "        optimizer.zero_grad()\n",
        "        outputs = model(images)\n",
        "        loss = criterion(outputs, labels)\n",
        "        loss.backward()\n",
        "        optimizer.step()\n",
        "\n",
        "        total_loss += loss.item()\n",
        "\n",
        "    avg_loss = total_loss / len(wrapped_loader)\n",
        "    train_losses.append(avg_loss)\n",
        "    print(f\" Epoch [{epoch+1}/{epochs}] Loss: {avg_loss:.4f}\")\n",
        "\n",
        "#  Save model\n",
        "torch.save(model.state_dict(), \"/content/fine_tuned_indian_food_model.pth\")\n",
        "print(\"🎉 Model saved as 'fine_tuned_indian_food_model.pth'\")\n",
        "\n",
        "#  Plot training loss\n",
        "plt.figure(figsize=(8, 5))\n",
        "plt.plot(range(1, epochs + 1), train_losses, marker='o', color='blue')\n",
        "plt.title(' Training Loss per Epoch')\n",
        "plt.xlabel('Epoch')\n",
        "plt.ylabel('Loss')\n",
        "plt.grid(True)\n",
        "plt.show()\n",
        "\n"
      ]
    },
    {
      "cell_type": "code",
      "execution_count": 9,
      "metadata": {
        "colab": {
          "base_uri": "https://localhost:8080/",
          "height": 1000
        },
        "collapsed": true,
        "id": "txxjgDDLxJih",
        "outputId": "9c11e7f5-dfea-427a-cb48-ea6d0baf5d9e"
      },
      "outputs": [
        {
          "name": "stderr",
          "output_type": "stream",
          "text": [
            "/usr/local/lib/python3.11/dist-packages/torchvision/models/_utils.py:208: UserWarning: The parameter 'pretrained' is deprecated since 0.13 and may be removed in the future, please use 'weights' instead.\n",
            "  warnings.warn(\n",
            "/usr/local/lib/python3.11/dist-packages/torchvision/models/_utils.py:223: UserWarning: Arguments other than a weight enum or `None` for 'weights' are deprecated since 0.13 and may be removed in the future. The current behavior is equivalent to passing `weights=GoogLeNet_Weights.IMAGENET1K_V1`. You can also use `weights=GoogLeNet_Weights.DEFAULT` to get the most up-to-date weights.\n",
            "  warnings.warn(msg)\n"
          ]
        },
        {
          "name": "stdout",
          "output_type": "stream",
          "text": [
            "✅ Selected classes and copied 30–40 images each.\n",
            "✅ Total images loaded: 350\n",
            "Class-to-Index mapping: {'butter_chicken': 0, 'chapati': 1, 'daal_baati_churma': 2, 'kachori': 3, 'palak_paneer': 4, 'ras_malai': 5, 'shrikhand': 6}\n"
          ]
        },
        {
          "name": "stderr",
          "output_type": "stream",
          "text": [
            "Epoch 1/30: 100%|██████████| 22/22 [00:06<00:00,  3.34it/s]\n"
          ]
        },
        {
          "name": "stdout",
          "output_type": "stream",
          "text": [
            "📘 Epoch [1/30] Loss: 2.0113\n"
          ]
        },
        {
          "name": "stderr",
          "output_type": "stream",
          "text": [
            "Epoch 2/30: 100%|██████████| 22/22 [00:06<00:00,  3.48it/s]\n"
          ]
        },
        {
          "name": "stdout",
          "output_type": "stream",
          "text": [
            "📘 Epoch [2/30] Loss: 2.0024\n"
          ]
        },
        {
          "name": "stderr",
          "output_type": "stream",
          "text": [
            "Epoch 3/30: 100%|██████████| 22/22 [00:05<00:00,  3.92it/s]\n"
          ]
        },
        {
          "name": "stdout",
          "output_type": "stream",
          "text": [
            "📘 Epoch [3/30] Loss: 1.9464\n"
          ]
        },
        {
          "name": "stderr",
          "output_type": "stream",
          "text": [
            "Epoch 4/30: 100%|██████████| 22/22 [00:07<00:00,  2.96it/s]\n"
          ]
        },
        {
          "name": "stdout",
          "output_type": "stream",
          "text": [
            "📘 Epoch [4/30] Loss: 1.9532\n"
          ]
        },
        {
          "name": "stderr",
          "output_type": "stream",
          "text": [
            "Epoch 5/30: 100%|██████████| 22/22 [00:05<00:00,  3.79it/s]\n"
          ]
        },
        {
          "name": "stdout",
          "output_type": "stream",
          "text": [
            "📘 Epoch [5/30] Loss: 1.9112\n"
          ]
        },
        {
          "name": "stderr",
          "output_type": "stream",
          "text": [
            "Epoch 6/30: 100%|██████████| 22/22 [00:07<00:00,  3.08it/s]\n"
          ]
        },
        {
          "name": "stdout",
          "output_type": "stream",
          "text": [
            "📘 Epoch [6/30] Loss: 1.8906\n"
          ]
        },
        {
          "name": "stderr",
          "output_type": "stream",
          "text": [
            "Epoch 7/30: 100%|██████████| 22/22 [00:05<00:00,  3.99it/s]\n"
          ]
        },
        {
          "name": "stdout",
          "output_type": "stream",
          "text": [
            "📘 Epoch [7/30] Loss: 1.8751\n"
          ]
        },
        {
          "name": "stderr",
          "output_type": "stream",
          "text": [
            "Epoch 8/30: 100%|██████████| 22/22 [00:06<00:00,  3.53it/s]\n"
          ]
        },
        {
          "name": "stdout",
          "output_type": "stream",
          "text": [
            "📘 Epoch [8/30] Loss: 1.8616\n"
          ]
        },
        {
          "name": "stderr",
          "output_type": "stream",
          "text": [
            "Epoch 9/30: 100%|██████████| 22/22 [00:05<00:00,  3.95it/s]\n"
          ]
        },
        {
          "name": "stdout",
          "output_type": "stream",
          "text": [
            "📘 Epoch [9/30] Loss: 1.8406\n"
          ]
        },
        {
          "name": "stderr",
          "output_type": "stream",
          "text": [
            "Epoch 10/30: 100%|██████████| 22/22 [00:06<00:00,  3.43it/s]\n"
          ]
        },
        {
          "name": "stdout",
          "output_type": "stream",
          "text": [
            "📘 Epoch [10/30] Loss: 1.8330\n"
          ]
        },
        {
          "name": "stderr",
          "output_type": "stream",
          "text": [
            "Epoch 11/30: 100%|██████████| 22/22 [00:06<00:00,  3.40it/s]\n"
          ]
        },
        {
          "name": "stdout",
          "output_type": "stream",
          "text": [
            "📘 Epoch [11/30] Loss: 1.8282\n"
          ]
        },
        {
          "name": "stderr",
          "output_type": "stream",
          "text": [
            "Epoch 12/30: 100%|██████████| 22/22 [00:06<00:00,  3.46it/s]\n"
          ]
        },
        {
          "name": "stdout",
          "output_type": "stream",
          "text": [
            "📘 Epoch [12/30] Loss: 1.8030\n"
          ]
        },
        {
          "name": "stderr",
          "output_type": "stream",
          "text": [
            "Epoch 13/30: 100%|██████████| 22/22 [00:05<00:00,  3.92it/s]\n"
          ]
        },
        {
          "name": "stdout",
          "output_type": "stream",
          "text": [
            "📘 Epoch [13/30] Loss: 1.7665\n"
          ]
        },
        {
          "name": "stderr",
          "output_type": "stream",
          "text": [
            "Epoch 14/30: 100%|██████████| 22/22 [00:06<00:00,  3.51it/s]\n"
          ]
        },
        {
          "name": "stdout",
          "output_type": "stream",
          "text": [
            "📘 Epoch [14/30] Loss: 1.7521\n"
          ]
        },
        {
          "name": "stderr",
          "output_type": "stream",
          "text": [
            "Epoch 15/30: 100%|██████████| 22/22 [00:05<00:00,  3.93it/s]\n"
          ]
        },
        {
          "name": "stdout",
          "output_type": "stream",
          "text": [
            "📘 Epoch [15/30] Loss: 1.7565\n"
          ]
        },
        {
          "name": "stderr",
          "output_type": "stream",
          "text": [
            "Epoch 16/30: 100%|██████████| 22/22 [00:06<00:00,  3.52it/s]\n"
          ]
        },
        {
          "name": "stdout",
          "output_type": "stream",
          "text": [
            "📘 Epoch [16/30] Loss: 1.7256\n"
          ]
        },
        {
          "name": "stderr",
          "output_type": "stream",
          "text": [
            "Epoch 17/30: 100%|██████████| 22/22 [00:05<00:00,  3.97it/s]\n"
          ]
        },
        {
          "name": "stdout",
          "output_type": "stream",
          "text": [
            "📘 Epoch [17/30] Loss: 1.6921\n"
          ]
        },
        {
          "name": "stderr",
          "output_type": "stream",
          "text": [
            "Epoch 18/30: 100%|██████████| 22/22 [00:06<00:00,  3.52it/s]\n"
          ]
        },
        {
          "name": "stdout",
          "output_type": "stream",
          "text": [
            "📘 Epoch [18/30] Loss: 1.7160\n"
          ]
        },
        {
          "name": "stderr",
          "output_type": "stream",
          "text": [
            "Epoch 19/30: 100%|██████████| 22/22 [00:05<00:00,  3.97it/s]\n"
          ]
        },
        {
          "name": "stdout",
          "output_type": "stream",
          "text": [
            "📘 Epoch [19/30] Loss: 1.7062\n"
          ]
        },
        {
          "name": "stderr",
          "output_type": "stream",
          "text": [
            "Epoch 20/30: 100%|██████████| 22/22 [00:06<00:00,  3.46it/s]\n"
          ]
        },
        {
          "name": "stdout",
          "output_type": "stream",
          "text": [
            "📘 Epoch [20/30] Loss: 1.6607\n"
          ]
        },
        {
          "name": "stderr",
          "output_type": "stream",
          "text": [
            "Epoch 21/30: 100%|██████████| 22/22 [00:05<00:00,  3.94it/s]\n"
          ]
        },
        {
          "name": "stdout",
          "output_type": "stream",
          "text": [
            "📘 Epoch [21/30] Loss: 1.6670\n"
          ]
        },
        {
          "name": "stderr",
          "output_type": "stream",
          "text": [
            "Epoch 22/30: 100%|██████████| 22/22 [00:06<00:00,  3.48it/s]\n"
          ]
        },
        {
          "name": "stdout",
          "output_type": "stream",
          "text": [
            "📘 Epoch [22/30] Loss: 1.6516\n"
          ]
        },
        {
          "name": "stderr",
          "output_type": "stream",
          "text": [
            "Epoch 23/30: 100%|██████████| 22/22 [00:05<00:00,  3.95it/s]\n"
          ]
        },
        {
          "name": "stdout",
          "output_type": "stream",
          "text": [
            "📘 Epoch [23/30] Loss: 1.6456\n"
          ]
        },
        {
          "name": "stderr",
          "output_type": "stream",
          "text": [
            "Epoch 24/30: 100%|██████████| 22/22 [00:06<00:00,  3.53it/s]\n"
          ]
        },
        {
          "name": "stdout",
          "output_type": "stream",
          "text": [
            "📘 Epoch [24/30] Loss: 1.6507\n"
          ]
        },
        {
          "name": "stderr",
          "output_type": "stream",
          "text": [
            "Epoch 25/30: 100%|██████████| 22/22 [00:05<00:00,  3.93it/s]\n"
          ]
        },
        {
          "name": "stdout",
          "output_type": "stream",
          "text": [
            "📘 Epoch [25/30] Loss: 1.6310\n"
          ]
        },
        {
          "name": "stderr",
          "output_type": "stream",
          "text": [
            "Epoch 26/30: 100%|██████████| 22/22 [00:06<00:00,  3.50it/s]\n"
          ]
        },
        {
          "name": "stdout",
          "output_type": "stream",
          "text": [
            "📘 Epoch [26/30] Loss: 1.6042\n"
          ]
        },
        {
          "name": "stderr",
          "output_type": "stream",
          "text": [
            "Epoch 27/30: 100%|██████████| 22/22 [00:05<00:00,  4.00it/s]\n"
          ]
        },
        {
          "name": "stdout",
          "output_type": "stream",
          "text": [
            "📘 Epoch [27/30] Loss: 1.5822\n"
          ]
        },
        {
          "name": "stderr",
          "output_type": "stream",
          "text": [
            "Epoch 28/30: 100%|██████████| 22/22 [00:06<00:00,  3.51it/s]\n"
          ]
        },
        {
          "name": "stdout",
          "output_type": "stream",
          "text": [
            "📘 Epoch [28/30] Loss: 1.6055\n"
          ]
        },
        {
          "name": "stderr",
          "output_type": "stream",
          "text": [
            "Epoch 29/30: 100%|██████████| 22/22 [00:05<00:00,  3.89it/s]\n"
          ]
        },
        {
          "name": "stdout",
          "output_type": "stream",
          "text": [
            "📘 Epoch [29/30] Loss: 1.5577\n"
          ]
        },
        {
          "name": "stderr",
          "output_type": "stream",
          "text": [
            "Epoch 30/30: 100%|██████████| 22/22 [00:06<00:00,  3.42it/s]\n"
          ]
        },
        {
          "name": "stdout",
          "output_type": "stream",
          "text": [
            "📘 Epoch [30/30] Loss: 1.5500\n",
            "🎉 Model saved as 'fine_tuned_indian_food_model02.pth'\n"
          ]
        },
        {
          "name": "stderr",
          "output_type": "stream",
          "text": [
            "/usr/local/lib/python3.11/dist-packages/IPython/core/pylabtools.py:151: UserWarning: Glyph 128269 (\\N{LEFT-POINTING MAGNIFYING GLASS}) missing from font(s) DejaVu Sans.\n",
            "  fig.canvas.print_figure(bytes_io, **kw)\n"
          ]
        },
        {
          "data": {
            "image/png": "[encoded data removed]",
            "text/plain": [
              "<Figure size 800x600 with 2 Axes>"
            ]
          },
          "metadata": {},
          "output_type": "display_data"
        },
        {
          "name": "stderr",
          "output_type": "stream",
          "text": [
            "/usr/local/lib/python3.11/dist-packages/IPython/core/pylabtools.py:151: UserWarning: Glyph 128201 (\\N{CHART WITH DOWNWARDS TREND}) missing from font(s) DejaVu Sans.\n",
            "  fig.canvas.print_figure(bytes_io, **kw)\n"
          ]
        },
        {
          "name": "stdout",
          "output_type": "stream",
          "text": [
            "📊 Classification Report:\n",
            "                   precision    recall  f1-score   support\n",
            "\n",
            "   butter_chicken       0.63      0.74      0.68        50\n",
            "          chapati       0.60      0.76      0.67        50\n",
            "daal_baati_churma       0.65      0.60      0.62        50\n",
            "          kachori       0.68      0.64      0.66        50\n",
            "     palak_paneer       0.51      0.78      0.62        50\n",
            "        ras_malai       0.57      0.40      0.47        50\n",
            "        shrikhand       0.67      0.32      0.43        50\n",
            "\n",
            "         accuracy                           0.61       350\n",
            "        macro avg       0.62      0.61      0.59       350\n",
            "     weighted avg       0.62      0.61      0.59       350\n",
            "\n"
          ]
        },
        {
          "data": {
            "image/png": "[encoded data removed]",
            "text/plain": [
              "<Figure size 800x500 with 1 Axes>"
            ]
          },
          "metadata": {},
          "output_type": "display_data"
        }
      ],
      "source": [
        "\n",
        "import os\n",
        "import shutil\n",
        "import torch\n",
        "import torch.nn as nn\n",
        "from torch.utils.data import DataLoader\n",
        "from torchvision import datasets, transforms, models\n",
        "from torch.optim import Adam\n",
        "import random\n",
        "from sklearn.metrics import confusion_matrix, classification_report\n",
        "import seaborn as sns\n",
        "import matplotlib.pyplot as plt\n",
        "from torch.optim.lr_scheduler import ReduceLROnPlateau\n",
        "from tqdm import tqdm\n",
        "\n",
        "# ✅ Define the 7 Indian dish folders to use\n",
        "selected_classes = [\n",
        "    'butter_chicken',\n",
        "    'daal_baati_churma',\n",
        "    'chapati',\n",
        "    'ras_malai',\n",
        "    'shrikhand',\n",
        "    'kachori',\n",
        "    'palak_paneer'\n",
        "]\n",
        "\n",
        "#  Path to full dataset with all 80 classes\n",
        "original_data_path = \"/content/indian_cuisine01/Indian-Food-Dataset/Indian Food Images/Indian Food Images\"\n",
        "\n",
        "#  Create a temp dataset folder for fine-tuning (only 7 classes, 30–40 images each)\n",
        "filtered_dataset_path = \"/content/indian_cuisine002\"\n",
        "os.makedirs(filtered_dataset_path, exist_ok=True)\n",
        "\n",
        "# Copy selected classes and only 30–40 images per class\n",
        "for class_name in selected_classes:\n",
        "    src_class_dir = os.path.join(original_data_path, class_name)\n",
        "    dst_class_dir = os.path.join(filtered_dataset_path, class_name)\n",
        "    os.makedirs(dst_class_dir, exist_ok=True)\n",
        "\n",
        "    images = os.listdir(src_class_dir)\n",
        "    selected_images = random.sample(images, min(len(images), 40))  # select 40 or fewer\n",
        "    for img in selected_images:\n",
        "        shutil.copy(os.path.join(src_class_dir, img), os.path.join(dst_class_dir, img))\n",
        "\n",
        "print(\" Selected classes and copied 30–40 images each.\")\n",
        "\n",
        "#  Data Augmentation and Transformation\n",
        "transform = transforms.Compose([\n",
        "    transforms.Resize((224, 224)),\n",
        "    transforms.RandomHorizontalFlip(),\n",
        "    transforms.RandomRotation(40),\n",
        "    transforms.ColorJitter(brightness=0.3, contrast=0.3, saturation=0.3, hue=0.3),\n",
        "    transforms.RandomResizedCrop(224),\n",
        "    transforms.RandomAffine(20),\n",
        "    transforms.ToTensor(),\n",
        "    transforms.Normalize([0.485, 0.456, 0.406], [0.229, 0.224, 0.225])\n",
        "])\n",
        "\n",
        "#  Load filtered dataset\n",
        "dataset = datasets.ImageFolder(root=filtered_dataset_path, transform=transform)\n",
        "dataloader = DataLoader(dataset, batch_size=16, shuffle=True)\n",
        "\n",
        "print(f\" Total images loaded: {len(dataset)}\")\n",
        "print(f\"Class-to-Index mapping: {dataset.class_to_idx}\")\n",
        "\n",
        "#  Load pre-trained GoogLeNet\n",
        "device = torch.device('cuda' if torch.cuda.is_available() else 'cpu')\n",
        "model = models.googlenet(pretrained=True)\n",
        "\n",
        "# Freeze all layers initially\n",
        "for param in model.parameters():\n",
        "    param.requires_grad = False\n",
        "\n",
        "# Unfreeze the final fully connected layer\n",
        "for param in model.fc.parameters():\n",
        "    param.requires_grad = True\n",
        "\n",
        "#  Modify the final layer for 7 classes (multi-class classification)\n",
        "model.fc = nn.Sequential(\n",
        "    nn.Dropout(p=0.3),  # Add Dropout\n",
        "    nn.Linear(model.fc.in_features, len(selected_classes))\n",
        ")\n",
        "model = model.to(device)\n",
        "\n",
        "#  Reduce learning rate to a smaller value for fine-tuning\n",
        "optimizer = Adam(model.parameters(), lr=1e-4)  # Use a very small learning rate for fine-tuning\n",
        "\n",
        "# Training setup\n",
        "criterion = nn.CrossEntropyLoss()\n",
        "\n",
        "#  Fine-tuning loop with Scheduler\n",
        "epochs = 30  # Increased epochs for better training\n",
        "train_losses = []\n",
        "\n",
        "# Example of using ReduceLROnPlateau scheduler\n",
        "scheduler = ReduceLROnPlateau(optimizer, 'min', patience=2, factor=0.5)\n",
        "\n",
        "for epoch in range(epochs):\n",
        "    model.train()\n",
        "    total_loss = 0\n",
        "\n",
        "    for images, labels in tqdm(dataloader, desc=f\"Epoch {epoch+1}/{epochs}\"):\n",
        "        images, labels = images.to(device), labels.to(device)\n",
        "\n",
        "        optimizer.zero_grad()\n",
        "        outputs = model(images)\n",
        "        loss = criterion(outputs, labels)\n",
        "        loss.backward()\n",
        "        optimizer.step()\n",
        "\n",
        "        total_loss += loss.item()\n",
        "\n",
        "    avg_loss = total_loss / len(dataloader)\n",
        "    train_losses.append(avg_loss)\n",
        "\n",
        "    # Update the learning rate\n",
        "    scheduler.step(avg_loss)\n",
        "\n",
        "    print(f\"📘 Epoch [{epoch+1}/{epochs}] Loss: {avg_loss:.4f}\")\n",
        "\n",
        "#  Save model\n",
        "torch.save(model.state_dict(), \"/content/fine_tuned_indian_food_model02.pth\")\n",
        "print(\"🎉 Model saved as 'fine_tuned_indian_food_model02.pth'\")\n",
        "\n",
        "#  Evaluate the model\n",
        "model.eval()\n",
        "all_labels = []\n",
        "all_preds = []\n",
        "\n",
        "with torch.no_grad():\n",
        "    for images, labels in dataloader:\n",
        "        images = images.to(device)\n",
        "        outputs = model(images)\n",
        "        _, preds = torch.max(outputs, 1)\n",
        "        all_preds.extend(preds.cpu().numpy())\n",
        "        all_labels.extend(labels.cpu().numpy())\n",
        "\n",
        "#  Confusion Matrix\n",
        "cm = confusion_matrix(all_labels, all_preds)\n",
        "plt.figure(figsize=(8, 6))\n",
        "sns.heatmap(cm, annot=True, fmt=\"d\", cmap=\"Blues\",\n",
        "            xticklabels=dataset.classes, yticklabels=dataset.classes)\n",
        "plt.title('🔍 Confusion Matrix')\n",
        "plt.xlabel('Predicted Labels')\n",
        "plt.ylabel('True Labels')\n",
        "plt.show()\n",
        "\n",
        "#  Classification Report (Precision, Recall, F1)\n",
        "print(\" Classification Report:\")\n",
        "print(classification_report(all_labels, all_preds, target_names=dataset.classes))\n",
        "\n",
        "#  Plot Training Loss (for each epoch)\n",
        "plt.figure(figsize=(8, 5))\n",
        "plt.plot(range(1, len(train_losses) + 1), train_losses, marker='o', color='purple')\n",
        "plt.title(' Training Loss per Epoch')\n",
        "plt.xlabel('Epoch')\n",
        "plt.ylabel('Loss')\n",
        "plt.grid(True)\n",
        "plt.show()\n",
        "\n"
      ]
    }
  ],
  "metadata": {
    "accelerator": "GPU",
    "colab": {
      "gpuType": "T4",
      "provenance": []
    },
    "kernelspec": {
      "display_name": "Python 3",
      "name": "python3"
    },
    "language_info": {
      "name": "python"
    }
  },
  "nbformat": 4,
  "nbformat_minor": 0
}
